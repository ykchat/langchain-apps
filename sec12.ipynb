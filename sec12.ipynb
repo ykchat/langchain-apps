{
 "cells": [
  {
   "cell_type": "markdown",
   "metadata": {},
   "source": [
    "## 12. OpenAI の Chat API の Function calling 機能について"
   ]
  },
  {
   "cell_type": "code",
   "execution_count": 1,
   "metadata": {},
   "outputs": [
    {
     "data": {
      "text/plain": [
       "True"
      ]
     },
     "execution_count": 1,
     "metadata": {},
     "output_type": "execute_result"
    }
   ],
   "source": [
    "from dotenv import load_dotenv\n",
    "\n",
    "load_dotenv()"
   ]
  },
  {
   "cell_type": "markdown",
   "metadata": {},
   "source": [
    "### 12.1 Function calling の基本"
   ]
  },
  {
   "cell_type": "code",
   "execution_count": 2,
   "metadata": {},
   "outputs": [],
   "source": [
    "import requests\n",
    "import xml.etree.ElementTree as ET\n",
    "\n",
    "res = requests.get(\"https://weather.tsukumijima.net/primary_area.xml\")\n",
    "root = ET.fromstring(res.text)\n",
    "cities = root.findall(\".//city\")\n",
    "\n",
    "city_dict = {}\n",
    "for city in cities:\n",
    "    city_dict[city.get(\"title\")] = city.get(\"id\")\n",
    "\n",
    "def get_city_id(city):\n",
    "\n",
    "    return city_dict[city]"
   ]
  },
  {
   "cell_type": "code",
   "execution_count": 3,
   "metadata": {},
   "outputs": [],
   "source": [
    "import json\n",
    "\n",
    "def get_current_weather(city):\n",
    "\n",
    "    city_id = get_city_id(city)\n",
    "    res = requests.get(f\"https://weather.tsukumijima.net/api/forecast/city/{city_id}\")\n",
    "    root = json.loads(res.text)\n",
    "\n",
    "    return json.dumps(root[\"forecasts\"][0])"
   ]
  },
  {
   "cell_type": "code",
   "execution_count": 4,
   "metadata": {},
   "outputs": [
    {
     "name": "stdout",
     "output_type": "stream",
     "text": [
      "=== STEP 1 の回答 ===\n",
      "{\n",
      "  \"id\": \"chatcmpl-7on1OIb6JVcRW8hrnFh8rzOojorPw\",\n",
      "  \"object\": \"chat.completion\",\n",
      "  \"created\": 1692339194,\n",
      "  \"model\": \"gpt-3.5-turbo-0613\",\n",
      "  \"choices\": [\n",
      "    {\n",
      "      \"index\": 0,\n",
      "      \"message\": {\n",
      "        \"role\": \"assistant\",\n",
      "        \"content\": null,\n",
      "        \"function_call\": {\n",
      "          \"name\": \"get_current_weather\",\n",
      "          \"arguments\": \"{\\n  \\\"location\\\": \\\"\\u6a2a\\u6d5c\\\"\\n}\"\n",
      "        }\n",
      "      },\n",
      "      \"finish_reason\": \"function_call\"\n",
      "    }\n",
      "  ],\n",
      "  \"usage\": {\n",
      "    \"prompt_tokens\": 100,\n",
      "    \"completion_tokens\": 20,\n",
      "    \"total_tokens\": 120\n",
      "  }\n",
      "}\n",
      "=== STEP 3 の回答 ===\n",
      "{\"date\": \"2023-08-18\", \"dateLabel\": \"\\u4eca\\u65e5\", \"telop\": \"\\u6674\\u6642\\u3005\\u66c7\", \"detail\": {\"weather\": \"\\u6674\\u308c\\u3000\\u6642\\u3005\\u3000\\u304f\\u3082\\u308a\", \"wind\": \"\\u5357\\u306e\\u98a8\\u3000\\u6d77\\u4e0a\\u3000\\u3067\\u306f\\u3000\\u5357\\u306e\\u98a8\\u3000\\u3084\\u3084\\u5f37\\u304f\", \"wave\": \"\\uff11\\u30e1\\u30fc\\u30c8\\u30eb\"}, \"temperature\": {\"min\": {\"celsius\": null, \"fahrenheit\": null}, \"max\": {\"celsius\": \"35\", \"fahrenheit\": \"95\"}}, \"chanceOfRain\": {\"T00_06\": \"--%\", \"T06_12\": \"--%\", \"T12_18\": \"10%\", \"T18_24\": \"10%\"}, \"image\": {\"title\": \"\\u6674\\u6642\\u3005\\u66c7\", \"url\": \"https://www.jma.go.jp/bosai/forecast/img/101.svg\", \"width\": 80, \"height\": 60}}\n",
      "=== STEP 4 の回答 ===\n",
      "{\n",
      "  \"id\": \"chatcmpl-7on1PGPH84pOwFuMRbwWve2RhFMlD\",\n",
      "  \"object\": \"chat.completion\",\n",
      "  \"created\": 1692339195,\n",
      "  \"model\": \"gpt-3.5-turbo-0613\",\n",
      "  \"choices\": [\n",
      "    {\n",
      "      \"index\": 0,\n",
      "      \"message\": {\n",
      "        \"role\": \"assistant\",\n",
      "        \"content\": \"\\u6a2a\\u6d5c\\u306e\\u73fe\\u5728\\u306e\\u5929\\u6c17\\u306f\\u300c\\u6674\\u6642\\u3005\\u66c7\\u308a\\u300d\\u3067\\u3059\\u3002\\u6700\\u4f4e\\u6c17\\u6e29\\u306f\\u4e0d\\u660e\\u3067\\u3001\\u6700\\u9ad8\\u6c17\\u6e29\\u306f\\u6442\\u6c0f35\\u5ea6\\uff08\\u83ef\\u6c0f95\\u5ea6\\uff09\\u3067\\u3059\\u3002\\u964d\\u6c34\\u78ba\\u7387\\u306f\\u5348\\u524d\\u4e2d10%\\u3001\\u5348\\u5f8c\\u308210%\\u3067\\u3059\\u3002\\u5357\\u306e\\u98a8\\u304c\\u5439\\u3044\\u3066\\u304a\\u308a\\u3001\\u6d77\\u4e0a\\u3067\\u3082\\u5357\\u306e\\u98a8\\u304c\\u3084\\u3084\\u5f37\\u304f\\u5439\\u3044\\u3066\\u3044\\u307e\\u3059\\u3002\\u8a73\\u7d30\\u306a\\u60c5\\u5831\\u306f\\u4ee5\\u4e0b\\u306e\\u30ea\\u30f3\\u30af\\u304b\\u3089\\u78ba\\u8a8d\\u3067\\u304d\\u307e\\u3059\\u3002\\n\\n[\\u5929\\u6c17\\u4e88\\u5831\\u753b\\u50cf](https://www.jma.go.jp/bosai/forecast/img/101.svg)\"\n",
      "      },\n",
      "      \"finish_reason\": \"stop\"\n",
      "    }\n",
      "  ],\n",
      "  \"usage\": {\n",
      "    \"prompt_tokens\": 350,\n",
      "    \"completion_tokens\": 157,\n",
      "    \"total_tokens\": 507\n",
      "  }\n",
      "}\n",
      "横浜の現在の天気は「晴時々曇り」です。最低気温は不明で、最高気温は摂氏35度（華氏95度）です。降水確率は午前中10%、午後も10%です。南の風が吹いており、海上でも南の風がやや強く吹いています。詳細な情報は以下のリンクから確認できます。\n",
      "\n",
      "[天気予報画像](https://www.jma.go.jp/bosai/forecast/img/101.svg)\n"
     ]
    }
   ],
   "source": [
    "import openai\n",
    "\n",
    "def run_conversation():\n",
    "\n",
    "    # STEP 1\n",
    "\n",
    "    messages = [\n",
    "        {\n",
    "            \"role\": \"user\", \n",
    "            \"content\": \"現在の横浜の天気を教えてください。\"\n",
    "        }\n",
    "    ]\n",
    "\n",
    "    functions = [\n",
    "        {\n",
    "            \"name\": \"get_current_weather\",\n",
    "            \"description\": \"与えられた地域の現在の天気を取得する。\",\n",
    "            \"parameters\": {\n",
    "                \"type\": \"object\",\n",
    "                \"properties\": {\n",
    "                    \"location\": {\n",
    "                        \"type\": \"string\",\n",
    "                        \"description\": \"地域、例えば、東京、横浜\",\n",
    "                    }\n",
    "                },\n",
    "                \"required\": [\"location\"],\n",
    "            }\n",
    "        }\n",
    "    ]\n",
    "\n",
    "    openai_1st_response = openai.ChatCompletion.create(\n",
    "        model=\"gpt-3.5-turbo\",\n",
    "        messages=messages,\n",
    "        functions=functions,\n",
    "        function_call=\"auto\",  # auto is default, but we'll be explicit\n",
    "    )\n",
    "\n",
    "    print(\"=== STEP 1 の回答 ===\")\n",
    "    print(openai_1st_response)\n",
    "\n",
    "    ai_message = openai_1st_response[\"choices\"][0][\"message\"]\n",
    "\n",
    "    # STEP 2\n",
    "\n",
    "    if ai_message.get(\"function_call\"):\n",
    "\n",
    "        # STEP 3\n",
    "\n",
    "        function_name = ai_message[\"function_call\"][\"name\"]\n",
    "        function_args = json.loads(ai_message[\"function_call\"][\"arguments\"])\n",
    "        function_response = globals()[function_name](function_args.get(\"location\"))\n",
    "\n",
    "        print(\"=== STEP 3 の回答 ===\")\n",
    "        print(function_response)\n",
    "\n",
    "        # STEP 4\n",
    "\n",
    "        messages.append(ai_message)\n",
    "        messages.append(\n",
    "            {\n",
    "                \"role\": \"function\",\n",
    "                \"name\": function_name,\n",
    "                \"content\": function_response,\n",
    "            }\n",
    "        )\n",
    "\n",
    "        openai_2nd_response = openai.ChatCompletion.create(\n",
    "            model=\"gpt-3.5-turbo\",\n",
    "            messages=messages,\n",
    "        )\n",
    "\n",
    "        print(\"=== STEP 4 の回答 ===\")\n",
    "        print(openai_2nd_response)\n",
    "\n",
    "        return openai_2nd_response[\"choices\"][0][\"message\"][\"content\"]\n",
    "\n",
    "result = run_conversation()\n",
    "print(result)"
   ]
  },
  {
   "cell_type": "markdown",
   "metadata": {},
   "source": [
    "### 12.2 Function calling を使った LangChain の「OpenAI Functions Agent」"
   ]
  },
  {
   "cell_type": "code",
   "execution_count": 5,
   "metadata": {},
   "outputs": [
    {
     "name": "stdout",
     "output_type": "stream",
     "text": [
      "横浜の現在の天気は「晴時々曇り」です。南の風が海上でやや強く吹いており、波の高さは1メートルです。最高気温は35度です。降水確率は午前中と夕方に10%です。\n",
      "\n",
      "![天気のアイコン](https://www.jma.go.jp/bosai/forecast/img/101.svg)\n"
     ]
    }
   ],
   "source": [
    "from langchain.chat_models import ChatOpenAI\n",
    "from langchain.agents import Tool, initialize_agent, AgentType\n",
    "\n",
    "tools = [\n",
    "    Tool(\n",
    "        name=\"get_current_weather\",\n",
    "        func=get_current_weather,\n",
    "        description=\"与えられた地域（例えば、東京、横浜）の現在の天気を取得する。\",\n",
    "    )\n",
    "]\n",
    "\n",
    "llm = ChatOpenAI(\n",
    "    model=\"gpt-3.5-turbo\", \n",
    "    temperature=0\n",
    ")\n",
    "\n",
    "agent = initialize_agent(tools, llm, agent=AgentType.OPENAI_FUNCTIONS)\n",
    "\n",
    "result = agent.run(\"現在の横浜の天気を教えてください。\")\n",
    "print(result)"
   ]
  },
  {
   "cell_type": "markdown",
   "metadata": {},
   "source": [
    "### 12.3 Function calling を応用した Extraction と Tagging"
   ]
  },
  {
   "cell_type": "code",
   "execution_count": 6,
   "metadata": {},
   "outputs": [
    {
     "name": "stdout",
     "output_type": "stream",
     "text": [
      "[\n",
      "  {\n",
      "    \"person_name\": \"アレックス\",\n",
      "    \"person_height\": 5,\n",
      "    \"person_hair_color\": \"ブロンド\",\n",
      "    \"dog_name\": \"フロスティ\",\n",
      "    \"dog_breed\": \"ラブラドール種\"\n",
      "  },\n",
      "  {\n",
      "    \"person_name\": \"クラウディア\",\n",
      "    \"person_height\": 6,\n",
      "    \"person_hair_color\": \"ブルネット\"\n",
      "  }\n",
      "]\n"
     ]
    }
   ],
   "source": [
    "from langchain.chat_models import ChatOpenAI\n",
    "from langchain.chains import create_extraction_chain\n",
    "\n",
    "schema = {\n",
    "    \"properties\": {\n",
    "        \"person_name\": {\"type\": \"string\"},\n",
    "        \"person_height\": {\"type\": \"integer\"},\n",
    "        \"person_hair_color\": {\"type\": \"string\"},\n",
    "        \"dog_name\": {\"type\": \"string\"},\n",
    "        \"dog_breed\": {\"type\": \"string\"},\n",
    "    },\n",
    "    \"required\": [\"person_name\", \"person_height\"],\n",
    "}\n",
    "\n",
    "user_message = \"\"\"\n",
    "アレックスは身長5フィートです。クラウディアはアレックスより1フィート背が高く、彼よりも高くジャンプします。クラウディアはブルネットで、アレックスはブロンドです。\n",
    "アレックスの犬のフロスティはラブラドール種で、かくれんぼをするのが好きです。\n",
    "\"\"\"\n",
    "\n",
    "llm = ChatOpenAI(\n",
    "    model=\"gpt-3.5-turbo\", \n",
    "    temperature=0\n",
    ")\n",
    "chain = create_extraction_chain(schema, llm)\n",
    "\n",
    "result = chain.run(user_message)\n",
    "print(json.dumps(result, indent=2, ensure_ascii=False))\n"
   ]
  },
  {
   "cell_type": "markdown",
   "metadata": {},
   "source": [
    "### 12.4 1 度に複数の関数を実行できる LangChain の「OpenAI Multi Functions Agent」"
   ]
  },
  {
   "cell_type": "code",
   "execution_count": 7,
   "metadata": {},
   "outputs": [
    {
     "name": "stdout",
     "output_type": "stream",
     "text": [
      "{\n",
      "  \"sentiment\": \"enojado\",\n",
      "  \"aggressiveness\": 1,\n",
      "  \"language\": \"es\"\n",
      "}\n"
     ]
    }
   ],
   "source": [
    "from langchain.chat_models import ChatOpenAI\n",
    "from langchain.chains import create_tagging_chain\n",
    "\n",
    "schema = {\n",
    "    \"properties\": {\n",
    "        \"sentiment\": {\"type\": \"string\"},\n",
    "        \"aggressiveness\": {\"type\": \"integer\"},\n",
    "        \"language\": {\"type\": \"string\"},\n",
    "    }\n",
    "}\n",
    "\n",
    "user_message = \"Estoy muy enojado con vos! Te voy a dar tu merecido!\"\n",
    "\n",
    "llm = ChatOpenAI(\n",
    "    model=\"gpt-3.5-turbo\", \n",
    "    temperature=0\n",
    ")\n",
    "chain = create_tagging_chain(schema, llm)\n",
    "\n",
    "result = chain.run(user_message)\n",
    "print(json.dumps(result, indent=2, ensure_ascii=False))"
   ]
  },
  {
   "cell_type": "code",
   "execution_count": 8,
   "metadata": {},
   "outputs": [
    {
     "name": "stdout",
     "output_type": "stream",
     "text": [
      "The current weather in Yokohama is 88 °F with scattered clouds. The forecast for today shows a maximum daytime temperature of 30 degrees Celsius and a minimum nighttime temperature of 27 degrees Celsius. There are heavy showers expected to change to clear by nighttime. In September, the weather in Yokohama is usually warm to hot and muggy, with an average temperature of 24.2 °C (75 °F). The coldest nights at the end of the month can drop to around 16 °C (61 °F).\n"
     ]
    }
   ],
   "source": [
    "from langchain.chat_models import ChatOpenAI\n",
    "from langchain.agents import load_tools, initialize_agent, AgentType\n",
    "\n",
    "tools = load_tools([\"ddg-search\"])\n",
    "chat = ChatOpenAI(model=\"gpt-3.5-turbo\", temperature=0)\n",
    "agent = initialize_agent(tools, chat, agent=AgentType.OPENAI_MULTI_FUNCTIONS)\n",
    "\n",
    "result = agent.run(\"What is the weather in Yokohama?\")\n",
    "\n",
    "print(result)"
   ]
  }
 ],
 "metadata": {
  "kernelspec": {
   "display_name": "env",
   "language": "python",
   "name": "python3"
  },
  "language_info": {
   "codemirror_mode": {
    "name": "ipython",
    "version": 3
   },
   "file_extension": ".py",
   "mimetype": "text/x-python",
   "name": "python",
   "nbconvert_exporter": "python",
   "pygments_lexer": "ipython3",
   "version": "3.11.4"
  },
  "orig_nbformat": 4
 },
 "nbformat": 4,
 "nbformat_minor": 2
}
